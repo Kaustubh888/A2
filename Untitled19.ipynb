{
 "cells": [
  {
   "cell_type": "code",
   "execution_count": null,
   "id": "2299e1b8",
   "metadata": {},
   "outputs": [],
   "source": [
    "1.What are the two values of the Boolean data type? How do you write them?\n",
    "= Boolean data type only has two values its either True =1 or False =0\n",
    "  eg ->\n",
    "    num1 = 0 \n",
    "    num2 = 9 \n",
    "    num3 = -8.9\n",
    "    print(bool(num1))\n",
    "    print(bool(num2))\n",
    "    print(bool(num3))"
   ]
  },
  {
   "cell_type": "code",
   "execution_count": null,
   "id": "23fb68f3",
   "metadata": {},
   "outputs": [],
   "source": [
    "2. What are the three different types of Boolean operators?\n",
    "= and,or and not"
   ]
  },
  {
   "cell_type": "code",
   "execution_count": null,
   "id": "81d6078c",
   "metadata": {},
   "outputs": [],
   "source": [
    "3. \n",
    "= \n",
    "    And     a      b\n",
    "            0      0      0    False\n",
    "            0      1      0    False           If both a & b are 1(True) then True\n",
    "            1      0      0    False           If any of a & b is 0(False) then False\n",
    "            1      1      1    True\n",
    "            \n",
    "    OR      a      b\n",
    "            0      0      0    False\n",
    "            0      1      1    True            If any of a & b is 1(True) then True else False\n",
    "            1      0      1    True\n",
    "            1      1      1    True\n",
    "            \n",
    "    NOT     If a = 0 then True  \n",
    "               b = 1 then False"
   ]
  },
  {
   "cell_type": "code",
   "execution_count": null,
   "id": "626079de",
   "metadata": {},
   "outputs": [],
   "source": [
    "4. What are the values of the following expressions?\n",
    "= (5>4) and (3==5)  ->0(False)\n",
    "  \n",
    "  not (5>4)  ->0(False)\n",
    "  \n",
    "  (5>4) or (3==5)  ->1(True)\n",
    "\n",
    "  not((5>4) or (3==5))  ->0(False)\n",
    "    \n",
    "  (True and True) and (True == False)  ->0(False)\n",
    "\n",
    "  (not False) or (not True)  ->1(True)"
   ]
  },
  {
   "cell_type": "code",
   "execution_count": null,
   "id": "61bd10dc",
   "metadata": {},
   "outputs": [],
   "source": [
    "5. \n",
    "=   Less than ( < ):   True if the left operand is less than the right else False\n",
    "    \n",
    "    Less than or equal to ( <= ):  True if left operand is less than or equal to the right else False\n",
    "        \n",
    "    Greater than ( > ): True if the left operand is greater than the right else False\n",
    "        \n",
    "    Greater than or equal to ( >= ):  True if left operand is greater than or equal to the right else False\n",
    "        \n",
    "    Equal to ( == ):  True if both operands are equal else False\n",
    "        \n",
    "    Not equal to ( != ): True if operands are not equal else False\n",
    "        "
   ]
  },
  {
   "cell_type": "code",
   "execution_count": null,
   "id": "ded3bcbf",
   "metadata": {},
   "outputs": [],
   "source": [
    "6.How do you tell the difference between the equal to and assignment operators?Describe a\n",
    "condition and when you would use one.\n",
    "\n",
    "= * Equal to executes the condition if the condition is satisfied it gives true or else it gives a false.\n",
    "    eg ->               \n",
    "                        if (i==j):\n",
    "                            print(\"True\")\n",
    "                        else:\n",
    "                            print(\"False\")\n",
    "                            \n",
    "  * Assignment operators is used to execute the arithmatic condition and then assign the value to the left most operand.\n",
    "    eg ->               \n",
    "                     \tx = y + z  \n",
    "                          \n",
    "                           here the value of y and z is added the result is assign to left most operand with is x\n",
    "        \n",
    "        "
   ]
  },
  {
   "cell_type": "code",
   "execution_count": null,
   "id": "81c3dbee",
   "metadata": {},
   "outputs": [],
   "source": [
    "7.\n",
    "=  The three blocks are the three conditions if spam = 0 and then executed the code only spam will be printed if spam = 10 and      then executed the code eggs,bacon,spam and spam while be printed because it will satisfy the first condition of if spam == 10    then it will print eggs after that it will enter the further condition as if spam > 5: now spam is 10 and 10 i greater \n",
    "   then 5 so the condition is true and will print  bacon next it will print spam and then again spam because both are under the    if conditions.\n",
    "\n",
    "\n",
    "spam = 0\n",
    "if spam == 10:                Block A\n",
    "    print('eggs')\n",
    "    if spam > 5:              Block B\n",
    "        print('bacon')\n",
    "    else:                     Block C\n",
    "        print('ham')\n",
    "    print('spam')\n",
    "print('spam')"
   ]
  },
  {
   "cell_type": "code",
   "execution_count": null,
   "id": "3e50c950",
   "metadata": {},
   "outputs": [],
   "source": [
    "8.Write code that prints Hello if 1 is stored in spam, prints Howdy if 2 is stored in spam, and prints Greetings! if anything else is stored in spam.\n",
    "= \n",
    "\n",
    "\n",
    "spam = int(input(\"Enter the value for spam:\"))\n",
    "if spam == 1:\n",
    "    print(\"Hello\")\n",
    "elif spam == 2:\n",
    "    print(\"Howdy\")\n",
    "else:\n",
    "    print(\"Greetings\")\n",
    "    \n",
    "    "
   ]
  },
  {
   "cell_type": "code",
   "execution_count": null,
   "id": "56769b10",
   "metadata": {},
   "outputs": [],
   "source": [
    "9.If your programme is stuck in an endless loop, what keys you’ll press?\n",
    "= CTRL-C"
   ]
  },
  {
   "cell_type": "code",
   "execution_count": null,
   "id": "70072365",
   "metadata": {},
   "outputs": [],
   "source": [
    "10.How can you tell the difference between break and continue?\n",
    "\n",
    "= Break statement leaves a loop, whereas the continue statement jumps to the next iteration."
   ]
  },
  {
   "cell_type": "code",
   "execution_count": null,
   "id": "47388abc",
   "metadata": {},
   "outputs": [],
   "source": [
    "11. In a for loop, what is the difference between range(10), range(0, 10), and range(0, 10, 1)?\n",
    "\n",
    "= \n",
    "\n",
    "range(stop) takes one argument.\n",
    "range(start, stop) takes two arguments.\n",
    "range(start, stop, step) takes three arguments"
   ]
  },
  {
   "cell_type": "code",
   "execution_count": null,
   "id": "de0917da",
   "metadata": {},
   "outputs": [],
   "source": [
    "12. Write a short program that prints the numbers 1 to 10 using a for loop. Then write an equivalent\n",
    "program that prints the numbers 1 to 10 using a while loop.\n",
    "= \n",
    "For Loop:\n",
    "    \n",
    "for i in range(1, 11):\n",
    "    print(i)\n",
    "    \n",
    "While Loop:\n",
    "    \n",
    "i = 1\n",
    "while i<=10:\n",
    "    print(i)\n",
    "    i += 1"
   ]
  },
  {
   "cell_type": "code",
   "execution_count": null,
   "id": "76dbdf25",
   "metadata": {},
   "outputs": [],
   "source": [
    "13. If you had a function named bacon() inside a module named spam, how would you call it after\n",
    "importing spam?\n",
    "=\n",
    "\n",
    "spam.bacon()\n"
   ]
  }
 ],
 "metadata": {
  "kernelspec": {
   "display_name": "Python 3",
   "language": "python",
   "name": "python3"
  },
  "language_info": {
   "codemirror_mode": {
    "name": "ipython",
    "version": 3
   },
   "file_extension": ".py",
   "mimetype": "text/x-python",
   "name": "python",
   "nbconvert_exporter": "python",
   "pygments_lexer": "ipython3",
   "version": "3.8.8"
  }
 },
 "nbformat": 4,
 "nbformat_minor": 5
}
